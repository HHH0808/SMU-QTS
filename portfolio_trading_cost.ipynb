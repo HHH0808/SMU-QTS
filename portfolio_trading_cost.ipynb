{
 "cells": [
  {
   "cell_type": "code",
   "execution_count": 105,
   "metadata": {},
   "outputs": [],
   "source": [
    "import pandas as pd"
   ]
  },
  {
   "cell_type": "markdown",
   "metadata": {},
   "source": [
    "###  Volume-Slippage Relationship:\n",
    "\n",
    "#### Factors Influencing Slippage\n",
    "- Order Size: Larger orders are more likely to move the market price.\n",
    "- Liquidity: Lower liquidity can lead to higher slippage.\n",
    "- Volatility: High volatility can cause prices to move quickly, leading to higher slippage.\n",
    "- Order Type: Market orders tend to have more slippage compared to limit orders.\n",
    "\n",
    "In this data set since we are given the 'Avg of Daily Equity Traded Val over 3 Months' we have decided to use an empirical model that relate trade volume to slippage.\n",
    "\n",
    "A common model assumes that slippage increases with the square root of the trade size.\n"
   ]
  },
  {
   "cell_type": "code",
   "execution_count": 106,
   "metadata": {},
   "outputs": [],
   "source": [
    "\n",
    "def estimate_slippage(volume, avg_daily_volume, impact_factor=0.5):\n",
    "    \"\"\"\n",
    "    Estimate slippage using a volume-impact model.\n",
    "    :param volume: Trade volume\n",
    "    :param avg_daily_volume: Average daily volume\n",
    "    :param impact_factor: Empirical factor (default is 0.5 for square root relationship)\n",
    "    :return: Estimated slippage percentage\n",
    "    \"\"\"\n",
    "    return impact_factor * (volume / (avg_daily_volume * 1_000_00_0)) ** 0.5"
   ]
  },
  {
   "cell_type": "code",
   "execution_count": 107,
   "metadata": {},
   "outputs": [
    {
     "name": "stdout",
     "output_type": "stream",
     "text": [
      "Estimated Slippage: 0.01350\n"
     ]
    }
   ],
   "source": [
    "## Total Trading Cost:\n",
    "avg_daily_volume = 685.90 # Using TOYOTA MOTOR CORP as example (given raw data is in mn we leave it in mn)\n",
    "trade_volume = 500_000 # 500k trade\n",
    "\n",
    "slippage_estimated = estimate_slippage(trade_volume, avg_daily_volume)\n",
    "print(f\"Estimated Slippage: {slippage_estimated:.5f}\")"
   ]
  },
  {
   "cell_type": "markdown",
   "metadata": {},
   "source": [
    "###  Total Trading Cost:\n",
    "\n",
    "Calculating trading costs accurately is crucial for evaluating and optimizing a quantitative trading strategy. Trading costs typically include explicit costs (like commissions and fees) and implicit costs (like bid-ask spreads and slippage).\n",
    "\n",
    "#### Components of Trading Costs\n",
    "- Commissions: Fixed costs per trade or per share.\n",
    "- Fees: Exchange or regulatory fees.\n",
    "- Bid-Ask Spread: The difference between the bid (buy) and ask (sell) prices.\n",
    "- Slippage: The difference between the expected price and the actual price due to market impact.\n",
    "\n",
    "\n",
    "\n",
    "\n",
    "$$\n",
    "    Total~Trading~Cost = Commision + Spread~Cost + Slippage\n",
    "$$"
   ]
  },
  {
   "cell_type": "code",
   "execution_count": 108,
   "metadata": {},
   "outputs": [],
   "source": [
    "## Parameters\n",
    "commission_per_trade = 0.01  # 1% commission per trade\n",
    "bid_ask_spread = 0.002  # 0.2% of the trade price\n",
    "\n",
    "def calculate_trading_costs(trades, commission_per_trade, bid_ask_spread):\n",
    "    trade_volume = abs(trades['quantity']) * trades['price']\n",
    "    \n",
    "    # Calculate commission cost\n",
    "    trades['commission'] = commission_per_trade * trade_volume\n",
    "    \n",
    "    # Calculate bid-ask spread cost\n",
    "    trades['bid_ask_spread_cost'] = bid_ask_spread * trade_volume\n",
    "    \n",
    "    # Calculate slippage cost\n",
    "    \n",
    "    # using parameter\n",
    "    # slippage_percentage = 0.05\n",
    "    # trades['slippage_cost'] = slippage_percentage * abs(trades['quantity']) * trades['price']\n",
    "\n",
    "    # estimate using volume slippage relationship\n",
    "    trades['slippage_cost'] = estimate_slippage(trade_volume, trades['avg_daily_volume']) * trade_volume\n",
    "    \n",
    "    # Total cost per trade\n",
    "    trades['total_cost'] = trades['commission'] + trades['bid_ask_spread_cost'] + trades['slippage_cost']\n",
    "    \n",
    "    return trades"
   ]
  },
  {
   "cell_type": "code",
   "execution_count": 109,
   "metadata": {},
   "outputs": [
    {
     "name": "stdout",
     "output_type": "stream",
     "text": [
      "         date symbol  quantity  avg_daily_volume   price  commission  \\\n",
      "0  2023-06-01   AAPL       100             67.39   150.0       150.0   \n",
      "1  2023-06-02   AAPL       -50             67.39   151.0        75.5   \n",
      "2  2023-06-03   GOOG       150             22.80  2500.0      3750.0   \n",
      "\n",
      "   bid_ask_spread_cost  slippage_cost    total_cost  \n",
      "0                 30.0     111.894609    291.894609  \n",
      "1                 15.1      39.956984    130.556984  \n",
      "2                750.0   24046.367627  28546.367627  \n"
     ]
    }
   ],
   "source": [
    "# Example: Calculate trading cost\n",
    "\n",
    "# Sample trades DataFrame\n",
    "data = {\n",
    "    'date': ['2023-06-01', '2023-06-02', '2023-06-03'],\n",
    "    'symbol': ['AAPL', 'AAPL', 'GOOG'],\n",
    "    'quantity': [100, -50, 150],  # Positive for buy, negative for sell\n",
    "    'avg_daily_volume': [67.39, 67.39, 22.8], # in mn\n",
    "    'price': [150.00, 151.00, 2500.00]\n",
    "}\n",
    "trades = pd.DataFrame(data)\n",
    "\n",
    "trades_with_costs = calculate_trading_costs(trades, commission_per_trade, bid_ask_spread)\n",
    "\n",
    "print(trades_with_costs)"
   ]
  }
 ],
 "metadata": {
  "kernelspec": {
   "display_name": "base",
   "language": "python",
   "name": "python3"
  },
  "language_info": {
   "codemirror_mode": {
    "name": "ipython",
    "version": 3
   },
   "file_extension": ".py",
   "mimetype": "text/x-python",
   "name": "python",
   "nbconvert_exporter": "python",
   "pygments_lexer": "ipython3",
   "version": "3.9.13"
  }
 },
 "nbformat": 4,
 "nbformat_minor": 2
}
