{
 "cells": [
  {
   "cell_type": "markdown",
   "id": "b9e437e4",
   "metadata": {},
   "source": [
    "1. The Sharpe Ratio \n",
    "\n",
    "- is a measure used to calculate the risk-adjusted return of an investment or a trading strategy. \n",
    "\n",
    "- A higher Sharpe ratio indicates better risk-adjusted returns, suggesting that the portfolio is generating more return per unit of risk taken. It is also used as benchmark for portfolio comparison.\n",
    "\n",
    "Formula:\n",
    "sharpe_ratio = mean of pnl distribution /std of pnl distribution\n",
    "annualized_sharpe_ratio = (sharpe_ratio * sqrt(N)) where n is the no of trading periods in a year. (assuming N=252)\n",
    "\n",
    "2. Using Average annual return and total returns\n",
    "\n",
    "Formula:\n",
    "Average annual returns (%) = mean of Pnl distribution * N * 100\n",
    "Total return = sum of pnl values * 100\n",
    "\n",
    "3. Max Drawndown\n",
    "\n",
    "A maximum drawdown (MDD) is the maximum observed loss from a peak to a trough of a portfolio, before a new peak is attained. Maximum drawdown is an indicator of downside risk over a specified time period.\n",
    "\n",
    "Formula:\n",
    "\n",
    "First calculate the cumulative PnL distribution. The difference between the max and min of cumulative Pnl distribution is max drawndown\n"
   ]
  },
  {
   "cell_type": "code",
   "execution_count": null,
   "id": "77c5c7c1",
   "metadata": {},
   "outputs": [],
   "source": [
    "#Utility method takes in daily % pnl vector and computes pnl diagnostics\n",
    "#daily % pnl is inputed as a dataframe, with date as index and corresponding pnl for that date as the value\n",
    "def pnlPerformance(pnl, label):\n",
    "    cumpnl = pnl.cumsum(skipna = True)\n",
    "    import matplotlib.pyplot as plt\n",
    "    import numpy as np\n",
    "    sharpe = pnl.mean()/np.std(pnl)\n",
    "    sharpe = sharpe*np.sqrt(252)\n",
    "    print(\"\")\n",
    "    print (\"PERFORMANCE STATISTICS FOR \"+label);\n",
    "    print(\"Daily annualized sharpe: \"+str(sharpe))\n",
    "    print (\"Average annual returns: \"+str(pnl.mean()*252*100)+\"%\")\n",
    "    print (\"Total returns: \"+str(pnl.sum()*100)+\"%\");\n",
    "    highwatermark_df = cumpnl.cummax();\n",
    "    drawdown_df = cumpnl - highwatermark_df;\n",
    "    maxdrawdown = drawdown_df.min();\n",
    "    print (\"Max drawdown: \"+str(maxdrawdown*100)+\"%\");\n",
    "    plt.plot(cumpnl.values, label = label);\n",
    "    plt.legend();\n",
    "    plt.title(\"Cumulative PNL chart\")\n",
    "    #HERE, we compute performance during 'stressed' historical periods\n",
    "    stressedmarkets = dict()\n",
    "    stressedmarkets[\"Covid19\"] = (20200301, 20200317);          #Market crash 1H March 2020\n",
    "    stressedmarkets[\"Dec18\"] = (20181215, 20181231);            #Market crash last 2 weeks\n",
    "    stressedmarkets[\"Fall2015\"] = (20150701, 20150901);         #Taper tantrum / EU debt crisis.  24 Aug 2015 was \"BlackMonday\" for Asian, EU and US markets\n",
    "    stressedmarkets[\"Oct14\"] = (20141001, 20141031);            #Treasury flash crash on 15 Oct 2014\n",
    "    stressedmarkets[\"Aug2013\"] = (20130820, 20130825);          #Flash freeze on 22 Aug 2013\n",
    "\n",
    "    for tkey in stressedmarkets.keys():\n",
    "        mask = pnl.index.to_series().between(stressedmarkets[tkey][0], stressedmarkets[tkey][1])\n",
    "        print(\"Stressed period return during \"+tkey+\":  \"+str(pnl[mask].sum()*100)+\"%\")\n",
    "    print(\"===========================\")\n",
    "    print(\"\")\n"
   ]
  }
 ],
 "metadata": {
  "kernelspec": {
   "display_name": "Python 3 (ipykernel)",
   "language": "python",
   "name": "python3"
  },
  "language_info": {
   "codemirror_mode": {
    "name": "ipython",
    "version": 3
   },
   "file_extension": ".py",
   "mimetype": "text/x-python",
   "name": "python",
   "nbconvert_exporter": "python",
   "pygments_lexer": "ipython3",
   "version": "3.11.5"
  }
 },
 "nbformat": 4,
 "nbformat_minor": 5
}
